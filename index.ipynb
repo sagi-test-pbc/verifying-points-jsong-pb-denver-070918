{
 "cells": [
  {
   "cell_type": "markdown",
   "metadata": {},
   "source": [
    "# Verifying Points on a Curve"
   ]
  },
  {
   "cell_type": "code",
   "execution_count": 1,
   "metadata": {},
   "outputs": [
    {
     "name": "stdout",
     "output_type": "stream",
     "text": [
      "True\n"
     ]
    }
   ],
   "source": [
    "# Verify curve Example\n",
    "\n",
    "prime = 137\n",
    "x, y = 73, 128\n",
    "\n",
    "print(y**2 % prime == (x**3 + 7) % prime)"
   ]
  },
  {
   "cell_type": "markdown",
   "metadata": {},
   "source": [
    "### Try it\n",
    "\n",
    "Find out which points are valid on the curve \\\\( y^2 = x^3 + 7: F_{223} \\\\)\n",
    "\n",
    "```\n",
    "(192,105), (17,56), (200,119), (1,193), (42,99)\n",
    "```"
   ]
  },
  {
   "cell_type": "code",
   "execution_count": null,
   "metadata": {},
   "outputs": [],
   "source": [
    "from ecc import FieldElement, Point\n",
    "\n",
    "prime = 223\n",
    "a = FieldElement(0, prime)\n",
    "b = FieldElement(7, prime)\n",
    "\n",
    "points = ((192,105), (17,56), (200,119), (1,193), (42,99))\n",
    "\n",
    "# iterate over points\n",
    "for x_raw, y_raw in points:\n",
    "    # Initialize points this way:\n",
    "    # x = FieldElement(x_raw, prime)\n",
    "    # y = FieldElement(y_raw, prime)\n",
    "    # try initializing, RuntimeError means not on curve\n",
    "    # p = Point(x, y, a, b)"
   ]
  }
 ],
 "metadata": {
  "kernelspec": {
   "display_name": "Python 3",
   "language": "python",
   "name": "python3"
  },
  "language_info": {
   "codemirror_mode": {
    "name": "ipython",
    "version": 3
   },
   "file_extension": ".py",
   "mimetype": "text/x-python",
   "name": "python",
   "nbconvert_exporter": "python",
   "pygments_lexer": "ipython3",
   "version": "3.6.4"
  }
 },
 "nbformat": 4,
 "nbformat_minor": 2
}
